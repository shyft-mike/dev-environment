{
 "cells": [
  {
   "cell_type": "code",
   "execution_count": 1,
   "id": "c4ca701e-f49c-4417-8244-7561c9a0930c",
   "metadata": {},
   "outputs": [],
   "source": [
    "import numpy as np\n",
    "import pandas as pd"
   ]
  },
  {
   "cell_type": "code",
   "execution_count": 2,
   "id": "4593be0f-2a60-49b9-a046-4ce5c44983b9",
   "metadata": {
    "tags": []
   },
   "outputs": [
    {
     "data": {
      "text/plain": [
       "(array([[46, 42, 86, 97, 70, 66, 25, 23],\n",
       "        [70, 56, 45, 10, 89, 62, 31, 41],\n",
       "        [47, 55, 82, 61, 81,  3, 41, 43],\n",
       "        [ 6, 12, 39, 31, 40,  0, 16, 81],\n",
       "        [38, 84, 53, 79, 65, 11,  0,  4],\n",
       "        [50, 21, 78, 42, 71, 28, 55, 35],\n",
       "        [69, 31, 18, 89, 21, 57, 45, 39],\n",
       "        [41, 89,  9, 40, 74,  6, 42, 21]]),\n",
       " array([[50, 49, 96, 56, 63, 35, 29, 73],\n",
       "        [14, 32, 99, 38, 58, 68, 31, 65],\n",
       "        [61, 64, 76, 97,  3, 76, 88, 86],\n",
       "        [44, 12, 76,  6, 49, 33, 95, 59],\n",
       "        [21, 35, 34, 46, 82, 80,  6, 77],\n",
       "        [32,  3,  5, 15, 83, 60, 38, 33],\n",
       "        [20, 62, 67, 22,  9, 72, 98, 73],\n",
       "        [51, 44, 43, 63, 69, 86, 26, 42]]),\n",
       " array([[60,  7, 95, 35,  1, 89, 92, 57],\n",
       "        [39, 47, 23, 40, 13, 59, 64, 54],\n",
       "        [70, 71, 83, 75, 55,  2, 70, 46],\n",
       "        [87, 79, 53, 15, 77, 93, 41, 97],\n",
       "        [59,  5, 31, 16, 73, 56, 54, 72],\n",
       "        [47, 14, 65, 92, 11, 31, 89,  9],\n",
       "        [72, 33, 12,  6, 95, 57, 53, 45],\n",
       "        [39, 32, 19, 89, 43, 75, 31, 59]]),\n",
       " array([[[46, 42, 86, 97, 70, 66, 25, 23],\n",
       "         [70, 56, 45, 10, 89, 62, 31, 41],\n",
       "         [47, 55, 82, 61, 81,  3, 41, 43],\n",
       "         [ 6, 12, 39, 31, 40,  0, 16, 81],\n",
       "         [38, 84, 53, 79, 65, 11,  0,  4],\n",
       "         [50, 21, 78, 42, 71, 28, 55, 35],\n",
       "         [69, 31, 18, 89, 21, 57, 45, 39],\n",
       "         [41, 89,  9, 40, 74,  6, 42, 21]],\n",
       " \n",
       "        [[50, 49, 96, 56, 63, 35, 29, 73],\n",
       "         [14, 32, 99, 38, 58, 68, 31, 65],\n",
       "         [61, 64, 76, 97,  3, 76, 88, 86],\n",
       "         [44, 12, 76,  6, 49, 33, 95, 59],\n",
       "         [21, 35, 34, 46, 82, 80,  6, 77],\n",
       "         [32,  3,  5, 15, 83, 60, 38, 33],\n",
       "         [20, 62, 67, 22,  9, 72, 98, 73],\n",
       "         [51, 44, 43, 63, 69, 86, 26, 42]],\n",
       " \n",
       "        [[60,  7, 95, 35,  1, 89, 92, 57],\n",
       "         [39, 47, 23, 40, 13, 59, 64, 54],\n",
       "         [70, 71, 83, 75, 55,  2, 70, 46],\n",
       "         [87, 79, 53, 15, 77, 93, 41, 97],\n",
       "         [59,  5, 31, 16, 73, 56, 54, 72],\n",
       "         [47, 14, 65, 92, 11, 31, 89,  9],\n",
       "         [72, 33, 12,  6, 95, 57, 53, 45],\n",
       "         [39, 32, 19, 89, 43, 75, 31, 59]]]))"
      ]
     },
     "execution_count": 2,
     "metadata": {},
     "output_type": "execute_result"
    }
   ],
   "source": [
    "prob_x = np.random.randint(low=0, high=100, size=(8,8))\n",
    "prob_y = np.random.randint(low=0, high=100, size=(8,8))\n",
    "prob_z = np.random.randint(low=0, high=100, size=(8,8))\n",
    "all_probs = np.stack([prob_x, prob_y,  prob_z], axis=0)\n",
    "\n",
    "prob_x, prob_y, prob_z, all_probs"
   ]
  },
  {
   "cell_type": "code",
   "execution_count": 3,
   "id": "91b08439-8091-44bd-b6eb-6f25db889afc",
   "metadata": {},
   "outputs": [],
   "source": [
    "all_dev = np.std(all_probs, axis=1)"
   ]
  },
  {
   "cell_type": "code",
   "execution_count": 4,
   "id": "2e3b804a-103e-4f78-82ce-4a1e96aa1dd1",
   "metadata": {},
   "outputs": [
    {
     "data": {
      "text/html": [
       "<div>\n",
       "<style scoped>\n",
       "    .dataframe tbody tr th:only-of-type {\n",
       "        vertical-align: middle;\n",
       "    }\n",
       "\n",
       "    .dataframe tbody tr th {\n",
       "        vertical-align: top;\n",
       "    }\n",
       "\n",
       "    .dataframe thead th {\n",
       "        text-align: right;\n",
       "    }\n",
       "</style>\n",
       "<table border=\"1\" class=\"dataframe\">\n",
       "  <thead>\n",
       "    <tr style=\"text-align: right;\">\n",
       "      <th></th>\n",
       "      <th>0</th>\n",
       "      <th>1</th>\n",
       "      <th>2</th>\n",
       "      <th>3</th>\n",
       "      <th>4</th>\n",
       "      <th>5</th>\n",
       "      <th>6</th>\n",
       "      <th>7</th>\n",
       "    </tr>\n",
       "  </thead>\n",
       "  <tbody>\n",
       "    <tr>\n",
       "      <th>0</th>\n",
       "      <td>18.744583</td>\n",
       "      <td>26.066022</td>\n",
       "      <td>27.275218</td>\n",
       "      <td>28.541363</td>\n",
       "      <td>20.990697</td>\n",
       "      <td>26.487910</td>\n",
       "      <td>16.616539</td>\n",
       "      <td>20.996652</td>\n",
       "    </tr>\n",
       "    <tr>\n",
       "      <th>1</th>\n",
       "      <td>16.155011</td>\n",
       "      <td>20.475214</td>\n",
       "      <td>30.282008</td>\n",
       "      <td>27.642528</td>\n",
       "      <td>28.648735</td>\n",
       "      <td>18.646380</td>\n",
       "      <td>33.940895</td>\n",
       "      <td>16.896745</td>\n",
       "    </tr>\n",
       "    <tr>\n",
       "      <th>2</th>\n",
       "      <td>15.885823</td>\n",
       "      <td>26.234519</td>\n",
       "      <td>29.150204</td>\n",
       "      <td>32.449961</td>\n",
       "      <td>32.634338</td>\n",
       "      <td>28.163585</td>\n",
       "      <td>20.135479</td>\n",
       "      <td>23.374332</td>\n",
       "    </tr>\n",
       "  </tbody>\n",
       "</table>\n",
       "</div>"
      ],
      "text/plain": [
       "           0          1          2          3          4          5  \\\n",
       "0  18.744583  26.066022  27.275218  28.541363  20.990697  26.487910   \n",
       "1  16.155011  20.475214  30.282008  27.642528  28.648735  18.646380   \n",
       "2  15.885823  26.234519  29.150204  32.449961  32.634338  28.163585   \n",
       "\n",
       "           6          7  \n",
       "0  16.616539  20.996652  \n",
       "1  33.940895  16.896745  \n",
       "2  20.135479  23.374332  "
      ]
     },
     "execution_count": 4,
     "metadata": {},
     "output_type": "execute_result"
    }
   ],
   "source": [
    "pd.DataFrame(all_dev)"
   ]
  },
  {
   "cell_type": "code",
   "execution_count": null,
   "id": "c6bbcada-235b-43ce-8efe-1c0de9625392",
   "metadata": {},
   "outputs": [],
   "source": []
  }
 ],
 "metadata": {
  "kernelspec": {
   "display_name": "Python 3 (ipykernel)",
   "language": "python",
   "name": "python3"
  },
  "language_info": {
   "codemirror_mode": {
    "name": "ipython",
    "version": 3
   },
   "file_extension": ".py",
   "mimetype": "text/x-python",
   "name": "python",
   "nbconvert_exporter": "python",
   "pygments_lexer": "ipython3",
   "version": "3.7.13"
  }
 },
 "nbformat": 4,
 "nbformat_minor": 5
}
