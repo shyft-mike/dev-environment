{
 "cells": [
  {
   "cell_type": "code",
   "execution_count": 12,
   "id": "c4ca701e-f49c-4417-8244-7561c9a0930c",
   "metadata": {},
   "outputs": [],
   "source": [
    "import numpy as np\n",
    "import pandas as pd"
   ]
  },
  {
   "cell_type": "code",
   "execution_count": 31,
   "id": "4593be0f-2a60-49b9-a046-4ce5c44983b9",
   "metadata": {
    "tags": []
   },
   "outputs": [
    {
     "data": {
      "text/plain": [
       "(array([[70, 56, 40, 34, 81, 69, 22, 60],\n",
       "        [34, 33, 35, 89, 51, 79, 19, 53],\n",
       "        [ 6, 46, 64, 75, 90, 86, 50, 71],\n",
       "        [84, 93, 93,  6, 36, 42, 30, 26],\n",
       "        [27, 34, 90, 19, 54, 20, 17, 19],\n",
       "        [ 6, 41,  6, 66, 89, 95,  5, 50],\n",
       "        [16, 20, 52, 31, 47,  0, 95, 30],\n",
       "        [61, 65, 50, 20, 80, 95, 82, 83]]),\n",
       " array([[87, 30, 62, 39, 35, 30, 73, 59],\n",
       "        [69, 94,  0, 33, 61, 18, 56, 75],\n",
       "        [55, 69, 23, 90, 32, 17, 49, 91],\n",
       "        [29, 79, 12, 46, 55, 13, 98, 65],\n",
       "        [83, 77, 41, 99,  4, 81, 79, 46],\n",
       "        [48,  8, 88, 87, 51, 16, 84, 44],\n",
       "        [67, 46, 38, 47, 50, 10, 50, 94],\n",
       "        [90, 40,  5, 65, 74, 18, 70, 96]]),\n",
       " array([[ 3, 41, 26, 36, 80,  2, 55, 61],\n",
       "        [60, 62, 58, 89, 10, 77,  1, 26],\n",
       "        [56, 19, 11, 90, 57, 44,  9, 19],\n",
       "        [56, 14, 98, 12, 52, 70, 26, 25],\n",
       "        [68, 30, 98, 47, 78, 41, 66, 83],\n",
       "        [29, 37, 30, 24, 91, 75, 55, 92],\n",
       "        [11, 13, 76, 17, 47, 86, 86, 97],\n",
       "        [25, 51, 61,  5, 77, 92, 18, 80]]),\n",
       " array([[[70, 56, 40, 34, 81, 69, 22, 60],\n",
       "         [34, 33, 35, 89, 51, 79, 19, 53],\n",
       "         [ 6, 46, 64, 75, 90, 86, 50, 71],\n",
       "         [84, 93, 93,  6, 36, 42, 30, 26],\n",
       "         [27, 34, 90, 19, 54, 20, 17, 19],\n",
       "         [ 6, 41,  6, 66, 89, 95,  5, 50],\n",
       "         [16, 20, 52, 31, 47,  0, 95, 30],\n",
       "         [61, 65, 50, 20, 80, 95, 82, 83]],\n",
       " \n",
       "        [[87, 30, 62, 39, 35, 30, 73, 59],\n",
       "         [69, 94,  0, 33, 61, 18, 56, 75],\n",
       "         [55, 69, 23, 90, 32, 17, 49, 91],\n",
       "         [29, 79, 12, 46, 55, 13, 98, 65],\n",
       "         [83, 77, 41, 99,  4, 81, 79, 46],\n",
       "         [48,  8, 88, 87, 51, 16, 84, 44],\n",
       "         [67, 46, 38, 47, 50, 10, 50, 94],\n",
       "         [90, 40,  5, 65, 74, 18, 70, 96]],\n",
       " \n",
       "        [[ 3, 41, 26, 36, 80,  2, 55, 61],\n",
       "         [60, 62, 58, 89, 10, 77,  1, 26],\n",
       "         [56, 19, 11, 90, 57, 44,  9, 19],\n",
       "         [56, 14, 98, 12, 52, 70, 26, 25],\n",
       "         [68, 30, 98, 47, 78, 41, 66, 83],\n",
       "         [29, 37, 30, 24, 91, 75, 55, 92],\n",
       "         [11, 13, 76, 17, 47, 86, 86, 97],\n",
       "         [25, 51, 61,  5, 77, 92, 18, 80]]]))"
      ]
     },
     "execution_count": 31,
     "metadata": {},
     "output_type": "execute_result"
    }
   ],
   "source": [
    "prob_x = np.random.randint(low=0, high=100, size=(8,8))\n",
    "prob_y = np.random.randint(low=0, high=100, size=(8,8))\n",
    "prob_z = np.random.randint(low=0, high=100, size=(8,8))\n",
    "all_probs = np.stack([prob_x, prob_y,  prob_z], axis=0)\n",
    "\n",
    "prob_x, prob_y, prob_z, all_probs"
   ]
  },
  {
   "cell_type": "code",
   "execution_count": 34,
   "id": "91b08439-8091-44bd-b6eb-6f25db889afc",
   "metadata": {},
   "outputs": [],
   "source": [
    "all_dev = np.std(all_probs, axis=1)"
   ]
  },
  {
   "cell_type": "code",
   "execution_count": 40,
   "id": "2e3b804a-103e-4f78-82ce-4a1e96aa1dd1",
   "metadata": {},
   "outputs": [
    {
     "data": {
      "text/html": [
       "<div>\n",
       "<style scoped>\n",
       "    .dataframe tbody tr th:only-of-type {\n",
       "        vertical-align: middle;\n",
       "    }\n",
       "\n",
       "    .dataframe tbody tr th {\n",
       "        vertical-align: top;\n",
       "    }\n",
       "\n",
       "    .dataframe thead th {\n",
       "        text-align: right;\n",
       "    }\n",
       "</style>\n",
       "<table border=\"1\" class=\"dataframe\">\n",
       "  <thead>\n",
       "    <tr style=\"text-align: right;\">\n",
       "      <th></th>\n",
       "      <th>0</th>\n",
       "      <th>1</th>\n",
       "      <th>2</th>\n",
       "      <th>3</th>\n",
       "      <th>4</th>\n",
       "      <th>5</th>\n",
       "      <th>6</th>\n",
       "      <th>7</th>\n",
       "    </tr>\n",
       "  </thead>\n",
       "  <tbody>\n",
       "    <tr>\n",
       "      <th>0</th>\n",
       "      <td>28.146936</td>\n",
       "      <td>21.313141</td>\n",
       "      <td>26.920020</td>\n",
       "      <td>28.209041</td>\n",
       "      <td>19.862024</td>\n",
       "      <td>33.703672</td>\n",
       "      <td>30.634947</td>\n",
       "      <td>21.118712</td>\n",
       "    </tr>\n",
       "    <tr>\n",
       "      <th>1</th>\n",
       "      <td>19.780040</td>\n",
       "      <td>27.193462</td>\n",
       "      <td>28.208764</td>\n",
       "      <td>24.045530</td>\n",
       "      <td>20.023424</td>\n",
       "      <td>21.713691</td>\n",
       "      <td>16.228351</td>\n",
       "      <td>19.696129</td>\n",
       "    </tr>\n",
       "    <tr>\n",
       "      <th>2</th>\n",
       "      <td>23.005434</td>\n",
       "      <td>16.620300</td>\n",
       "      <td>30.711358</td>\n",
       "      <td>31.144823</td>\n",
       "      <td>24.233242</td>\n",
       "      <td>28.037642</td>\n",
       "      <td>28.288690</td>\n",
       "      <td>30.380658</td>\n",
       "    </tr>\n",
       "  </tbody>\n",
       "</table>\n",
       "</div>"
      ],
      "text/plain": [
       "           0          1          2          3          4          5  \\\n",
       "0  28.146936  21.313141  26.920020  28.209041  19.862024  33.703672   \n",
       "1  19.780040  27.193462  28.208764  24.045530  20.023424  21.713691   \n",
       "2  23.005434  16.620300  30.711358  31.144823  24.233242  28.037642   \n",
       "\n",
       "           6          7  \n",
       "0  30.634947  21.118712  \n",
       "1  16.228351  19.696129  \n",
       "2  28.288690  30.380658  "
      ]
     },
     "execution_count": 40,
     "metadata": {},
     "output_type": "execute_result"
    }
   ],
   "source": [
    "pd.DataFrame(all_dev)"
   ]
  },
  {
   "cell_type": "code",
   "execution_count": null,
   "id": "c6bbcada-235b-43ce-8efe-1c0de9625392",
   "metadata": {},
   "outputs": [],
   "source": []
  }
 ],
 "metadata": {
  "kernelspec": {
   "display_name": "Python 3 (ipykernel)",
   "language": "python",
   "name": "python3"
  },
  "language_info": {
   "codemirror_mode": {
    "name": "ipython",
    "version": 3
   },
   "file_extension": ".py",
   "mimetype": "text/x-python",
   "name": "python",
   "nbconvert_exporter": "python",
   "pygments_lexer": "ipython3",
   "version": "3.7.13"
  }
 },
 "nbformat": 4,
 "nbformat_minor": 5
}
